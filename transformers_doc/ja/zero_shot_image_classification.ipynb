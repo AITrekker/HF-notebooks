{
 "cells": [
  {
   "cell_type": "markdown",
   "metadata": {},
   "source": [
    "# Zero-shot image classification"
   ]
  },
  {
   "cell_type": "markdown",
   "metadata": {},
   "source": [
    "ゼロショット画像分類は、次のモデルを使用して画像をさまざまなカテゴリに分類するタスクです。\n",
    "これらの特定のカテゴリのラベル付きの例を含むデータに対して明示的にトレーニングされていない。\n",
    "\n",
    "従来、画像分類には、ラベル付き画像の特定のセットでモデルをトレーニングする必要があり、このモデルは次のことを学習します。\n",
    "特定の画像の特徴をラベルに「マッピング」します。分類タスクにそのようなモデルを使用する必要がある場合、\n",
    "新しいラベルのセットでは、モデルを \"再調整\" するために微調整が必​​要です。\n",
    "\n",
    "対照的に、ゼロショットまたはオープン語彙画像分類モデルは、通常、大規模なシステムでトレーニングされたマルチモーダル モデルです。\n",
    "画像と関連する説明のデータセット。これらのモデルは、ゼロショット画像分類を含む多くの下流タスクに使用できる、調整された視覚言語表現を学習します。\n",
    "\n",
    "これは、画像分類に対するより柔軟なアプローチであり、モデルを新しいまだ見たことのないカテゴリに一般化できるようになります。\n",
    "追加のトレーニング データを必要とせず、ユーザーはターゲット オブジェクトの自由形式のテキスト説明を含む画像をクエリできるようになります。\n",
    "\n",
    "このガイドでは、次の方法を学びます。\n",
    "\n",
    "* ゼロショット画像分類パイプラインを作成する\n",
    "* 手動でゼロショット画像分類推論を実行します\n",
    "\n",
    "始める前に、必要なライブラリがすべてインストールされていることを確認してください。\n",
    "\n",
    "```bash\n",
    "pip install -q transformers\n",
    "```"
   ]
  },
  {
   "cell_type": "markdown",
   "metadata": {},
   "source": [
    "## Zero-shot image classification pipeline"
   ]
  },
  {
   "cell_type": "markdown",
   "metadata": {},
   "source": [
    "ゼロショット画像分類をサポートするモデルで推論を試す最も簡単な方法は、対応する `パイプライン` を使用することです。\n",
    "[Hugging Face Hub のチェックポイント](https://huggingface.co/models?pipeline_tag=zero-shot-image-classification&sort=downloads) からパイプラインをインスタンス化します。"
   ]
  },
  {
   "cell_type": "code",
   "execution_count": null,
   "metadata": {},
   "outputs": [],
   "source": [
    "from transformers import pipeline\n",
    "\n",
    "checkpoint = \"openai/clip-vit-large-patch14\"\n",
    "detector = pipeline(model=checkpoint, task=\"zero-shot-image-classification\")"
   ]
  },
  {
   "cell_type": "markdown",
   "metadata": {},
   "source": [
    "次に、分類したい画像を選択します。"
   ]
  },
  {
   "cell_type": "code",
   "execution_count": null,
   "metadata": {},
   "outputs": [],
   "source": [
    "from PIL import Image\n",
    "import requests\n",
    "\n",
    "url = \"https://unsplash.com/photos/g8oS8-82DxI/download?ixid=MnwxMjA3fDB8MXx0b3BpY3x8SnBnNktpZGwtSGt8fHx8fDJ8fDE2NzgxMDYwODc&force=true&w=640\"\n",
    "image = Image.open(requests.get(url, stream=True).raw)\n",
    "\n",
    "image"
   ]
  },
  {
   "cell_type": "markdown",
   "metadata": {},
   "source": [
    "<div class=\"flex justify-center\">\n",
    "     <img src=\"https://huggingface.co/datasets/huggingface/documentation-images/resolve/main/transformers/tasks/owl.jpg\" alt=\"Photo of an owl\"/>\n",
    "</div>\n",
    "\n",
    "画像と候補オブジェクトのラベルをパイプラインに渡します。ここでは画像を直接渡します。他の適切なオプション\n",
    "画像へのローカル パスまたは画像 URL を含めます。\n",
    "候補ラベルは、この例のように単純な単語にすることも、より説明的な単語にすることもできます。"
   ]
  },
  {
   "cell_type": "code",
   "execution_count": null,
   "metadata": {},
   "outputs": [
    {
     "data": {
      "text/plain": [
       "[{'score': 0.9996670484542847, 'label': 'owl'},\n",
       " {'score': 0.000199399160919711, 'label': 'seagull'},\n",
       " {'score': 7.392891711788252e-05, 'label': 'fox'},\n",
       " {'score': 5.96074532950297e-05, 'label': 'bear'}]"
      ]
     },
     "execution_count": null,
     "metadata": {},
     "output_type": "execute_result"
    }
   ],
   "source": [
    "predictions = detector(image, candidate_labels=[\"fox\", \"bear\", \"seagull\", \"owl\"])\n",
    "predictions"
   ]
  },
  {
   "cell_type": "markdown",
   "metadata": {},
   "source": [
    "## Zero-shot image classification by hand"
   ]
  },
  {
   "cell_type": "markdown",
   "metadata": {},
   "source": [
    "ゼロショット画像分類パイプラインの使用方法を理解したところで、ゼロショットを実行する方法を見てみましょう。\n",
    "画像を手動で分類します。\n",
    "\n",
    "まず、[Hugging Face Hub のチェックポイント](https://huggingface.co/models?pipeline_tag=zero-shot-image-classification&sort=downloads) からモデルと関連プロセッサをロードします。\n",
    "ここでは、前と同じチェックポイントを使用します。"
   ]
  },
  {
   "cell_type": "code",
   "execution_count": null,
   "metadata": {},
   "outputs": [],
   "source": [
    "from transformers import AutoProcessor, AutoModelForZeroShotImageClassification\n",
    "\n",
    "model = AutoModelForZeroShotImageClassification.from_pretrained(checkpoint)\n",
    "processor = AutoProcessor.from_pretrained(checkpoint)"
   ]
  },
  {
   "cell_type": "markdown",
   "metadata": {},
   "source": [
    "気分を変えて、別の画像を撮ってみましょう。"
   ]
  },
  {
   "cell_type": "code",
   "execution_count": null,
   "metadata": {},
   "outputs": [],
   "source": [
    "from PIL import Image\n",
    "import requests\n",
    "\n",
    "url = \"https://unsplash.com/photos/xBRQfR2bqNI/download?ixid=MnwxMjA3fDB8MXxhbGx8fHx8fHx8fHwxNjc4Mzg4ODEx&force=true&w=640\"\n",
    "image = Image.open(requests.get(url, stream=True).raw)\n",
    "\n",
    "image"
   ]
  },
  {
   "cell_type": "markdown",
   "metadata": {},
   "source": [
    "<div class=\"flex justify-center\">\n",
    "     <img src=\"https://huggingface.co/datasets/huggingface/documentation-images/resolve/main/transformers/tasks/car.jpg\" alt=\"Photo of a car\"/>\n",
    "</div>\n",
    "\n",
    "プロセッサを使用してモデルの入力を準備します。プロセッサーは、\n",
    "サイズ変更と正規化によるモデルの画像、およびテキスト入力を処理するトークナイザー。"
   ]
  },
  {
   "cell_type": "code",
   "execution_count": null,
   "metadata": {},
   "outputs": [],
   "source": [
    "candidate_labels = [\"tree\", \"car\", \"bike\", \"cat\"]\n",
    "inputs = processor(images=image, text=candidate_labels, return_tensors=\"pt\", padding=True)"
   ]
  },
  {
   "cell_type": "markdown",
   "metadata": {},
   "source": [
    "入力をモデルに渡し、結果を後処理します。"
   ]
  },
  {
   "cell_type": "code",
   "execution_count": null,
   "metadata": {},
   "outputs": [
    {
     "data": {
      "text/plain": [
       "[{'score': 0.998572, 'label': 'car'},\n",
       " {'score': 0.0010570387, 'label': 'bike'},\n",
       " {'score': 0.0003393686, 'label': 'tree'},\n",
       " {'score': 3.1572064e-05, 'label': 'cat'}]"
      ]
     },
     "execution_count": null,
     "metadata": {},
     "output_type": "execute_result"
    }
   ],
   "source": [
    "import torch\n",
    "\n",
    "with torch.no_grad():\n",
    "    outputs = model(**inputs)\n",
    "\n",
    "logits = outputs.logits_per_image[0]\n",
    "probs = logits.softmax(dim=-1).numpy()\n",
    "scores = probs.tolist()\n",
    "\n",
    "result = [\n",
    "    {\"score\": score, \"label\": candidate_label}\n",
    "    for score, candidate_label in sorted(zip(probs, candidate_labels), key=lambda x: -x[0])\n",
    "]\n",
    "\n",
    "result"
   ]
  }
 ],
 "metadata": {},
 "nbformat": 4,
 "nbformat_minor": 4
}
